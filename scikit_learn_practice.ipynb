{
  "nbformat": 4,
  "nbformat_minor": 0,
  "metadata": {
    "colab": {
      "name": "scikit-learn-practice.ipynb",
      "provenance": []
    },
    "kernelspec": {
      "name": "python3",
      "display_name": "Python 3"
    },
    "language_info": {
      "name": "python"
    }
  },
  "cells": [
    {
      "cell_type": "code",
      "metadata": {
        "id": "60kyy0Fta9zV"
      },
      "source": [
        "from sklearn.datasets import load_boston\n",
        "\n",
        "from sklearn.neighbors import KNeighborsRegressor\n",
        "from sklearn.linear_model import LinearRegression\n",
        "import matplotlib.pylab as plt\n"
      ],
      "execution_count": 1,
      "outputs": []
    },
    {
      "cell_type": "code",
      "metadata": {
        "colab": {
          "base_uri": "https://localhost:8080/",
          "height": 283
        },
        "id": "QEsu8QMIbeXj",
        "outputId": "30fd30fc-1e58-4bde-ff7d-588a16599707"
      },
      "source": [
        "X, y = load_boston(return_X_y=True)\n",
        "\n",
        "mod = KNeighborsRegressor()\n",
        "mod.fit(X, y)\n",
        "pred=mod.predict(X)\n",
        "\n",
        "plt.scatter(pred,y)"
      ],
      "execution_count": 2,
      "outputs": [
        {
          "output_type": "execute_result",
          "data": {
            "text/plain": [
              "<matplotlib.collections.PathCollection at 0x7f6ed6f51310>"
            ]
          },
          "metadata": {
            "tags": []
          },
          "execution_count": 2
        },
        {
          "output_type": "display_data",
          "data": {
            "image/png": "[encoded data removed]",
            "text/plain": [
              "<Figure size 432x288 with 1 Axes>"
            ]
          },
          "metadata": {
            "tags": [],
            "needs_background": "light"
          }
        }
      ]
    },
    {
      "cell_type": "markdown",
      "metadata": {
        "id": "ymzaquBfdjtQ"
      },
      "source": [
        "## Let's put everything into a pipeline."
      ]
    },
    {
      "cell_type": "code",
      "metadata": {
        "colab": {
          "base_uri": "https://localhost:8080/",
          "height": 283
        },
        "id": "HrJHyLJ9bhOM",
        "outputId": "4e6eab00-0899-4733-9eb6-3be22b13e71e"
      },
      "source": [
        "from sklearn.neighbors import KNeighborsRegressor\n",
        "from sklearn.preprocessing import StandardScaler\n",
        "from sklearn.datasets import load_boston\n",
        "from sklearn.pipeline import Pipeline\n",
        "import matplotlib.pylab as plt\n",
        "\n",
        "X, y = load_boston(return_X_y=True)\n",
        "\n",
        "pipe = Pipeline([\n",
        "    (\"scale\", StandardScaler()),\n",
        "    (\"model\", KNeighborsRegressor())\n",
        "])\n",
        "pred = pipe.fit(X, y).predict(X)\n",
        "plt.scatter(pred, y)"
      ],
      "execution_count": 3,
      "outputs": [
        {
          "output_type": "execute_result",
          "data": {
            "text/plain": [
              "<matplotlib.collections.PathCollection at 0x7f6ed6f39d10>"
            ]
          },
          "metadata": {
            "tags": []
          },
          "execution_count": 3
        },
        {
          "output_type": "display_data",
          "data": {
            "image/png": "[encoded data removed]",
            "text/plain": [
              "<Figure size 432x288 with 1 Axes>"
            ]
          },
          "metadata": {
            "tags": [],
            "needs_background": "light"
          }
        }
      ]
    },
    {
      "cell_type": "markdown",
      "metadata": {
        "id": "2oPCJ35XdcbG"
      },
      "source": [
        ""
      ]
    },
    {
      "cell_type": "code",
      "metadata": {
        "id": "sjkpmisyc_f-"
      },
      "source": [
        ""
      ],
      "execution_count": 3,
      "outputs": []
    },
    {
      "cell_type": "markdown",
      "metadata": {
        "id": "n43DgO3-dszj"
      },
      "source": [
        "\n",
        "## Let's also apply some settings!"
      ]
    },
    {
      "cell_type": "code",
      "metadata": {
        "colab": {
          "base_uri": "https://localhost:8080/",
          "height": 283
        },
        "id": "lgZHZhdUdt8M",
        "outputId": "071abb99-665c-48b5-e5a4-1bab3df0dc3f"
      },
      "source": [
        "from sklearn.neighbors import KNeighborsRegressor\n",
        "from sklearn.preprocessing import StandardScaler\n",
        "from sklearn.datasets import load_boston\n",
        "from sklearn.pipeline import Pipeline\n",
        "import matplotlib.pylab as plt\n",
        "\n",
        "X, y = load_boston(return_X_y=True)\n",
        "\n",
        "# If n_neighbors = 1, we're totally cheating with the chart below.\n",
        "pipe = Pipeline([\n",
        "    (\"scale\", StandardScaler()),\n",
        "    (\"model\", KNeighborsRegressor(n_neighbors=1))\n",
        "])\n",
        "pred = pipe.fit(X, y).predict(X)\n",
        "plt.scatter(pred, y)"
      ],
      "execution_count": 4,
      "outputs": [
        {
          "output_type": "execute_result",
          "data": {
            "text/plain": [
              "<matplotlib.collections.PathCollection at 0x7f6ed6a256d0>"
            ]
          },
          "metadata": {
            "tags": []
          },
          "execution_count": 4
        },
        {
          "output_type": "display_data",
          "data": {
            "image/png": "[encoded data removed]",
            "text/plain": [
              "<Figure size 432x288 with 1 Axes>"
            ]
          },
          "metadata": {
            "tags": [],
            "needs_background": "light"
          }
        }
      ]
    },
    {
      "cell_type": "markdown",
      "metadata": {
        "id": "-QB1ved6d1em"
      },
      "source": [
        "## Let's now use a gridsearch!"
      ]
    },
    {
      "cell_type": "code",
      "metadata": {
        "colab": {
          "base_uri": "https://localhost:8080/"
        },
        "id": "lQ0YhAXrd2od",
        "outputId": "97556dfe-8f56-49a8-9475-b4286572ffce"
      },
      "source": [
        "from sklearn.datasets import load_boston\n",
        "from sklearn.neighbors import KNeighborsRegressor\n",
        "from sklearn.preprocessing import StandardScaler\n",
        "from sklearn.pipeline import Pipeline\n",
        "from sklearn.model_selection import GridSearchCV\n",
        "import pandas as pd\n",
        "\n",
        "mod = GridSearchCV(estimator=pipe,\n",
        "                 param_grid={\n",
        "                   'model__n_neighbors': [1, 2, 3, 4, 5, 6, 7, 8, 9, 10]\n",
        "                 },\n",
        "                 cv=3)\n",
        "mod.fit(X, y)"
      ],
      "execution_count": 5,
      "outputs": [
        {
          "output_type": "execute_result",
          "data": {
            "text/plain": [
              "GridSearchCV(cv=3, error_score=nan,\n",
              "             estimator=Pipeline(memory=None,\n",
              "                                steps=[('scale',\n",
              "                                        StandardScaler(copy=True,\n",
              "                                                       with_mean=True,\n",
              "                                                       with_std=True)),\n",
              "                                       ('model',\n",
              "                                        KNeighborsRegressor(algorithm='auto',\n",
              "                                                            leaf_size=30,\n",
              "                                                            metric='minkowski',\n",
              "                                                            metric_params=None,\n",
              "                                                            n_jobs=None,\n",
              "                                                            n_neighbors=1, p=2,\n",
              "                                                            weights='uniform'))],\n",
              "                                verbose=False),\n",
              "             iid='deprecated', n_jobs=None,\n",
              "             param_grid={'model__n_neighbors': [1, 2, 3, 4, 5, 6, 7, 8, 9, 10]},\n",
              "             pre_dispatch='2*n_jobs', refit=True, return_train_score=False,\n",
              "             scoring=None, verbose=0)"
            ]
          },
          "metadata": {
            "tags": []
          },
          "execution_count": 5
        }
      ]
    },
    {
      "cell_type": "code",
      "metadata": {
        "colab": {
          "base_uri": "https://localhost:8080/",
          "height": 556
        },
        "id": "a7F7QMaqd-pd",
        "outputId": "8af234e1-cf93-4ed8-e8c9-6689d9d2e188"
      },
      "source": [
        "pd.DataFrame(mod.cv_results_)"
      ],
      "execution_count": 6,
      "outputs": [
        {
          "output_type": "execute_result",
          "data": {
            "text/html": [
              "<div>\n",
              "<style scoped>\n",
              "    .dataframe tbody tr th:only-of-type {\n",
              "        vertical-align: middle;\n",
              "    }\n",
              "\n",
              "    .dataframe tbody tr th {\n",
              "        vertical-align: top;\n",
              "    }\n",
              "\n",
              "    .dataframe thead th {\n",
              "        text-align: right;\n",
              "    }\n",
              "</style>\n",
              "<table border=\"1\" class=\"dataframe\">\n",
              "  <thead>\n",
              "    <tr style=\"text-align: right;\">\n",
              "      <th></th>\n",
              "      <th>mean_fit_time</th>\n",
              "      <th>std_fit_time</th>\n",
              "      <th>mean_score_time</th>\n",
              "      <th>std_score_time</th>\n",
              "      <th>param_model__n_neighbors</th>\n",
              "      <th>params</th>\n",
              "      <th>split0_test_score</th>\n",
              "      <th>split1_test_score</th>\n",
              "      <th>split2_test_score</th>\n",
              "      <th>mean_test_score</th>\n",
              "      <th>std_test_score</th>\n",
              "      <th>rank_test_score</th>\n",
              "    </tr>\n",
              "  </thead>\n",
              "  <tbody>\n",
              "    <tr>\n",
              "      <th>0</th>\n",
              "      <td>0.002540</td>\n",
              "      <td>0.000705</td>\n",
              "      <td>0.003442</td>\n",
              "      <td>0.001328</td>\n",
              "      <td>1</td>\n",
              "      <td>{'model__n_neighbors': 1}</td>\n",
              "      <td>0.226933</td>\n",
              "      <td>0.432998</td>\n",
              "      <td>0.127635</td>\n",
              "      <td>0.262522</td>\n",
              "      <td>0.127179</td>\n",
              "      <td>10</td>\n",
              "    </tr>\n",
              "    <tr>\n",
              "      <th>1</th>\n",
              "      <td>0.001454</td>\n",
              "      <td>0.000143</td>\n",
              "      <td>0.002516</td>\n",
              "      <td>0.000346</td>\n",
              "      <td>2</td>\n",
              "      <td>{'model__n_neighbors': 2}</td>\n",
              "      <td>0.358216</td>\n",
              "      <td>0.409229</td>\n",
              "      <td>0.172294</td>\n",
              "      <td>0.313246</td>\n",
              "      <td>0.101821</td>\n",
              "      <td>9</td>\n",
              "    </tr>\n",
              "    <tr>\n",
              "      <th>2</th>\n",
              "      <td>0.001355</td>\n",
              "      <td>0.000042</td>\n",
              "      <td>0.002173</td>\n",
              "      <td>0.000138</td>\n",
              "      <td>3</td>\n",
              "      <td>{'model__n_neighbors': 3}</td>\n",
              "      <td>0.413515</td>\n",
              "      <td>0.476651</td>\n",
              "      <td>0.318534</td>\n",
              "      <td>0.402900</td>\n",
              "      <td>0.064986</td>\n",
              "      <td>1</td>\n",
              "    </tr>\n",
              "    <tr>\n",
              "      <th>3</th>\n",
              "      <td>0.001252</td>\n",
              "      <td>0.000021</td>\n",
              "      <td>0.002120</td>\n",
              "      <td>0.000119</td>\n",
              "      <td>4</td>\n",
              "      <td>{'model__n_neighbors': 4}</td>\n",
              "      <td>0.475349</td>\n",
              "      <td>0.402495</td>\n",
              "      <td>0.273014</td>\n",
              "      <td>0.383619</td>\n",
              "      <td>0.083675</td>\n",
              "      <td>7</td>\n",
              "    </tr>\n",
              "    <tr>\n",
              "      <th>4</th>\n",
              "      <td>0.001361</td>\n",
              "      <td>0.000138</td>\n",
              "      <td>0.002424</td>\n",
              "      <td>0.000229</td>\n",
              "      <td>5</td>\n",
              "      <td>{'model__n_neighbors': 5}</td>\n",
              "      <td>0.512318</td>\n",
              "      <td>0.347951</td>\n",
              "      <td>0.262590</td>\n",
              "      <td>0.374286</td>\n",
              "      <td>0.103638</td>\n",
              "      <td>8</td>\n",
              "    </tr>\n",
              "    <tr>\n",
              "      <th>5</th>\n",
              "      <td>0.001301</td>\n",
              "      <td>0.000064</td>\n",
              "      <td>0.002349</td>\n",
              "      <td>0.000118</td>\n",
              "      <td>6</td>\n",
              "      <td>{'model__n_neighbors': 6}</td>\n",
              "      <td>0.533611</td>\n",
              "      <td>0.389504</td>\n",
              "      <td>0.248482</td>\n",
              "      <td>0.390532</td>\n",
              "      <td>0.116406</td>\n",
              "      <td>6</td>\n",
              "    </tr>\n",
              "    <tr>\n",
              "      <th>6</th>\n",
              "      <td>0.001827</td>\n",
              "      <td>0.000764</td>\n",
              "      <td>0.003355</td>\n",
              "      <td>0.000981</td>\n",
              "      <td>7</td>\n",
              "      <td>{'model__n_neighbors': 7}</td>\n",
              "      <td>0.544782</td>\n",
              "      <td>0.385199</td>\n",
              "      <td>0.243668</td>\n",
              "      <td>0.391216</td>\n",
              "      <td>0.123003</td>\n",
              "      <td>5</td>\n",
              "    </tr>\n",
              "    <tr>\n",
              "      <th>7</th>\n",
              "      <td>0.001230</td>\n",
              "      <td>0.000037</td>\n",
              "      <td>0.002382</td>\n",
              "      <td>0.000224</td>\n",
              "      <td>8</td>\n",
              "      <td>{'model__n_neighbors': 8}</td>\n",
              "      <td>0.589644</td>\n",
              "      <td>0.394650</td>\n",
              "      <td>0.209714</td>\n",
              "      <td>0.398003</td>\n",
              "      <td>0.155124</td>\n",
              "      <td>2</td>\n",
              "    </tr>\n",
              "    <tr>\n",
              "      <th>8</th>\n",
              "      <td>0.001199</td>\n",
              "      <td>0.000005</td>\n",
              "      <td>0.002324</td>\n",
              "      <td>0.000173</td>\n",
              "      <td>9</td>\n",
              "      <td>{'model__n_neighbors': 9}</td>\n",
              "      <td>0.590352</td>\n",
              "      <td>0.407556</td>\n",
              "      <td>0.185253</td>\n",
              "      <td>0.394387</td>\n",
              "      <td>0.165643</td>\n",
              "      <td>3</td>\n",
              "    </tr>\n",
              "    <tr>\n",
              "      <th>9</th>\n",
              "      <td>0.001358</td>\n",
              "      <td>0.000090</td>\n",
              "      <td>0.002930</td>\n",
              "      <td>0.000537</td>\n",
              "      <td>10</td>\n",
              "      <td>{'model__n_neighbors': 10}</td>\n",
              "      <td>0.616510</td>\n",
              "      <td>0.395077</td>\n",
              "      <td>0.164023</td>\n",
              "      <td>0.391870</td>\n",
              "      <td>0.184741</td>\n",
              "      <td>4</td>\n",
              "    </tr>\n",
              "  </tbody>\n",
              "</table>\n",
              "</div>"
            ],
            "text/plain": [
              "   mean_fit_time  std_fit_time  ...  std_test_score  rank_test_score\n",
              "0       0.002540      0.000705  ...        0.127179               10\n",
              "1       0.001454      0.000143  ...        0.101821                9\n",
              "2       0.001355      0.000042  ...        0.064986                1\n",
              "3       0.001252      0.000021  ...        0.083675                7\n",
              "4       0.001361      0.000138  ...        0.103638                8\n",
              "5       0.001301      0.000064  ...        0.116406                6\n",
              "6       0.001827      0.000764  ...        0.123003                5\n",
              "7       0.001230      0.000037  ...        0.155124                2\n",
              "8       0.001199      0.000005  ...        0.165643                3\n",
              "9       0.001358      0.000090  ...        0.184741                4\n",
              "\n",
              "[10 rows x 12 columns]"
            ]
          },
          "metadata": {
            "tags": []
          },
          "execution_count": 6
        }
      ]
    },
    {
      "cell_type": "markdown",
      "metadata": {
        "id": "bSGDq6Y7eHj8"
      },
      "source": [
        "## Finally, lets remember that we should look at the data."
      ]
    },
    {
      "cell_type": "code",
      "metadata": {
        "colab": {
          "base_uri": "https://localhost:8080/"
        },
        "id": "YMEtAjgieI-O",
        "outputId": "5d30683f-e0ad-4cac-c289-c19beb5f7b3e"
      },
      "source": [
        "print(load_boston()['DESCR'])"
      ],
      "execution_count": 7,
      "outputs": [
        {
          "output_type": "stream",
          "text": [
            ".. _boston_dataset:\n",
            "\n",
            "Boston house prices dataset\n",
            "---------------------------\n",
            "\n",
            "**Data Set Characteristics:**  \n",
            "\n",
            "    :Number of Instances: 506 \n",
            "\n",
            "    :Number of Attributes: 13 numeric/categorical predictive. Median Value (attribute 14) is usually the target.\n",
            "\n",
            "    :Attribute Information (in order):\n",
            "        - CRIM     per capita crime rate by town\n",
            "        - ZN       proportion of residential land zoned for lots over 25,000 sq.ft.\n",
            "        - INDUS    proportion of non-retail business acres per town\n",
            "        - CHAS     Charles River dummy variable (= 1 if tract bounds river; 0 otherwise)\n",
            "        - NOX      nitric oxides concentration (parts per 10 million)\n",
            "        - RM       average number of rooms per dwelling\n",
            "        - AGE      proportion of owner-occupied units built prior to 1940\n",
            "        - DIS      weighted distances to five Boston employment centres\n",
            "        - RAD      index of accessibility to radial highways\n",
            "        - TAX      full-value property-tax rate per $10,000\n",
            "        - PTRATIO  pupil-teacher ratio by town\n",
            "        - B        1000(Bk - 0.63)^2 where Bk is the proportion of blacks by town\n",
            "        - LSTAT    % lower status of the population\n",
            "        - MEDV     Median value of owner-occupied homes in $1000's\n",
            "\n",
            "    :Missing Attribute Values: None\n",
            "\n",
            "    :Creator: Harrison, D. and Rubinfeld, D.L.\n",
            "\n",
            "This is a copy of UCI ML housing dataset.\n",
            "https://archive.ics.uci.edu/ml/machine-learning-databases/housing/\n",
            "\n",
            "\n",
            "This dataset was taken from the StatLib library which is maintained at Carnegie Mellon University.\n",
            "\n",
            "The Boston house-price data of Harrison, D. and Rubinfeld, D.L. 'Hedonic\n",
            "prices and the demand for clean air', J. Environ. Economics & Management,\n",
            "vol.5, 81-102, 1978.   Used in Belsley, Kuh & Welsch, 'Regression diagnostics\n",
            "...', Wiley, 1980.   N.B. Various transformations are used in the table on\n",
            "pages 244-261 of the latter.\n",
            "\n",
            "The Boston house-price data has been used in many machine learning papers that address regression\n",
            "problems.   \n",
            "     \n",
            ".. topic:: References\n",
            "\n",
            "   - Belsley, Kuh & Welsch, 'Regression diagnostics: Identifying Influential Data and Sources of Collinearity', Wiley, 1980. 244-261.\n",
            "   - Quinlan,R. (1993). Combining Instance-Based and Model-Based Learning. In Proceedings on the Tenth International Conference of Machine Learning, 236-243, University of Massachusetts, Amherst. Morgan Kaufmann.\n",
            "\n"
          ],
          "name": "stdout"
        }
      ]
    },
    {
      "cell_type": "code",
      "metadata": {
        "id": "j53AtRzneLrW"
      },
      "source": [
        ""
      ],
      "execution_count": 7,
      "outputs": []
    }
  ]
}