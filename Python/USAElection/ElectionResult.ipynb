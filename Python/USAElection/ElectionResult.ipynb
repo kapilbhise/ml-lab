{
 "cells": [
  {
   "cell_type": "code",
   "execution_count": 11,
   "metadata": {},
   "outputs": [],
   "source": [
    "import pandas\n",
    "\n",
    "wiki = pandas.read_html('https://en.wikipedia.org/wiki/2020_United_States_presidential_election')\n"
   ]
  },
  {
   "cell_type": "code",
   "execution_count": 14,
   "metadata": {},
   "outputs": [
    {
     "name": "stdout",
     "output_type": "stream",
     "text": [
      "Joe Biden is the winner!\n"
     ]
    }
   ],
   "source": [
    "election = wiki[2]\n",
    "candidate_1 = election[1]\n",
    "cand_1_name = candidate_1[1]\n",
    "cand_1_votes = candidate_1[5]\n",
    "cand_1_popular = candidate_1[7]\n",
    "\n",
    "candidate_2 = election[2]\n",
    "cand_2_name = candidate_2[1]\n",
    "cand_2_votes = candidate_2[5]\n",
    "cand_2_popular = candidate_2[7]\n",
    "\n",
    "if cand_1_votes > cand_2_votes:\n",
    "    print(cand_1_name, 'is the winner!')\n",
    "else:\n",
    "    print(cand_2_name, 'is the winner!')"
   ]
  },
  {
   "cell_type": "code",
   "execution_count": null,
   "metadata": {},
   "outputs": [],
   "source": []
  }
 ],
 "metadata": {
  "kernelspec": {
   "display_name": "Python 3",
   "language": "python",
   "name": "python3"
  },
  "language_info": {
   "codemirror_mode": {
    "name": "ipython",
    "version": 3
   },
   "file_extension": ".py",
   "mimetype": "text/x-python",
   "name": "python",
   "nbconvert_exporter": "python",
   "pygments_lexer": "ipython3",
   "version": "3.7.3"
  }
 },
 "nbformat": 4,
 "nbformat_minor": 2
}
